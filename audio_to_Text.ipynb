{
  "nbformat": 4,
  "nbformat_minor": 0,
  "metadata": {
    "colab": {
      "provenance": []
    },
    "kernelspec": {
      "name": "python3",
      "display_name": "Python 3"
    },
    "language_info": {
      "name": "python"
    }
  },
  "cells": [
    {
      "cell_type": "code",
      "execution_count": null,
      "metadata": {
        "id": "vLtr5g5zMxuz"
      },
      "outputs": [],
      "source": [
        "!pip install SpeechRecognition"
      ]
    },
    {
      "cell_type": "code",
      "source": [
        "import speech_recognition as sr\n",
        "\n",
        "r = sr.Recognizer()"
      ],
      "metadata": {
        "id": "feYJimoANCkT"
      },
      "execution_count": 19,
      "outputs": []
    },
    {
      "cell_type": "code",
      "source": [
        "!apt-get install python3-pyaudio\n",
        "!pip install pyaudio"
      ],
      "metadata": {
        "id": "o9gOIzfdNOYs"
      },
      "execution_count": null,
      "outputs": []
    },
    {
      "cell_type": "code",
      "source": [
        "!pip install ffmpeg\n",
        "\n",
        "!ffmpeg -i sampleAudio.mp3 sampleAudio.wav"
      ],
      "metadata": {
        "id": "7Qs8h6L0Q_DQ"
      },
      "execution_count": null,
      "outputs": []
    },
    {
      "cell_type": "code",
      "source": [
        "# Replace '/path/to/audio/file.wav' with the actual path of your audio file\n",
        "with sr.AudioFile('sampleAudio.wav') as source:\n",
        "    audio = r.record(source)\n",
        "\n",
        "text = r.recognize_google(audio)\n",
        "print(text)"
      ],
      "metadata": {
        "id": "SGf8SvBZQDHw"
      },
      "execution_count": null,
      "outputs": []
    }
  ]
}