{
  "nbformat": 4,
  "nbformat_minor": 0,
  "metadata": {
    "colab": {
      "provenance": []
    },
    "kernelspec": {
      "name": "python3",
      "display_name": "Python 3"
    },
    "language_info": {
      "name": "python"
    }
  },
  "cells": [
    {
      "cell_type": "code",
      "source": [
        "#In this example, the OpenCV library is installed using !pip install opencv-python-headless. You also need to have the Haar cascades for face and eye detection (haarcascade_frontalface_default.xml and haarcascade_eye.xml) in the same directory as the script or specify the full path to the files."
      ],
      "metadata": {
        "id": "yL4P_LAMJGoY"
      },
      "execution_count": null,
      "outputs": []
    },
    {
      "cell_type": "code",
      "execution_count": 1,
      "metadata": {
        "colab": {
          "base_uri": "https://localhost:8080/"
        },
        "id": "bRjf5eeCIrOq",
        "outputId": "abf7a86f-2344-48e6-9863-be95dda9d943"
      },
      "outputs": [
        {
          "output_type": "stream",
          "name": "stdout",
          "text": [
            "Looking in indexes: https://pypi.org/simple, https://us-python.pkg.dev/colab-wheels/public/simple/\n",
            "Requirement already satisfied: opencv-python-headless in /usr/local/lib/python3.8/dist-packages (4.7.0.68)\n",
            "Requirement already satisfied: numpy>=1.17.0 in /usr/local/lib/python3.8/dist-packages (from opencv-python-headless) (1.21.6)\n"
          ]
        }
      ],
      "source": [
        "!pip install opencv-python-headless"
      ]
    },
    {
      "cell_type": "code",
      "source": [
        "import cv2"
      ],
      "metadata": {
        "id": "n8-j1JjrIvrB"
      },
      "execution_count": 2,
      "outputs": []
    },
    {
      "cell_type": "code",
      "source": [
        "# Load the cascade classifier for face detection\n",
        "face_cascade = cv2.CascadeClassifier(\"haarcascade_frontalface_default.xml\")\n",
        "\n",
        "# Load the cascade classifier for eye detection\n",
        "eye_cascade = cv2.CascadeClassifier(\"haarcascade_eye.xml\")"
      ],
      "metadata": {
        "id": "KqL7bV3WIyOP"
      },
      "execution_count": 3,
      "outputs": []
    },
    {
      "cell_type": "code",
      "source": [
        "# Load the video stream\n",
        "cap = cv2.VideoCapture(0)"
      ],
      "metadata": {
        "id": "Pg8DfOFCI0hY"
      },
      "execution_count": 4,
      "outputs": []
    },
    {
      "cell_type": "code",
      "source": [
        "while True:\n",
        "    # Read the video frame\n",
        "    ret, frame = cap.read()\n",
        "\n",
        "    if not ret:\n",
        "        continue\n",
        "\n",
        "    # Convert the frame to grayscale\n",
        "    gray = cv2.cvtColor(frame, cv2.COLOR_BGR2GRAY)\n",
        "\n",
        "    # Detect faces in the grayscale frame\n",
        "    faces = face_cascade.detectMultiScale(gray, scaleFactor=1.1, minNeighbors=5, minSize=(30, 30))\n",
        "\n",
        "    # Iterate over each detected face\n",
        "    for (x, y, w, h) in faces:\n",
        "        # Draw a rectangle around the face\n",
        "        cv2.rectangle(frame, (x, y), (x + w, y + h), (255, 0, 0), 2)\n",
        "\n",
        "        # Get the region of interest (ROI) for the eyes in the grayscale frame\n",
        "        roi_gray = gray[y:y + h, x:x + w]\n",
        "\n",
        "        # Detect eyes in the ROI\n",
        "        eyes = eye_cascade.detectMultiScale(roi_gray)\n",
        "\n",
        "        # Iterate over each detected eye\n",
        "        for (ex, ey, ew, eh) in eyes:\n",
        "            # Draw a rectangle around the eye\n",
        "            cv2.rectangle(frame, (x + ex, y + ey), (x + ex + ew, y + ey + eh), (0, 255, 0), 2)\n",
        "\n",
        "    # Display the frame\n",
        "    cv2.imshow(\"Eye Gaze Tracking\", frame)\n",
        "\n",
        "    # Break the loop if the 'q' key is pressed\n",
        "    if cv2.waitKey(1) & 0xFF == ord('q'):\n",
        "        break\n",
        "\n",
        "# Release the video stream\n",
        "cap.release()\n",
        "\n",
        "# Destroy all windows\n",
        "cv2.destroyAllWindows()"
      ],
      "metadata": {
        "id": "7OocuuvmI7ff"
      },
      "execution_count": null,
      "outputs": []
    }
  ]
}